{
    "cells": [
        {
            "cell_type": "markdown",
            "metadata": {
                "collapsed": true
            },
            "source": "# My Jupyter Notebook on IBM Watson Studio"
        },
        {
            "cell_type": "markdown",
            "metadata": {},
            "source": "<b>Luis Rodriguez-Garcia</b><br>\nPhD student at the University of Utah"
        },
        {
            "cell_type": "markdown",
            "metadata": {},
            "source": "<i>I am interested in data science because the current trend in all fields is to exploit the existing information to get a better understanding of processes and find mechanisms to improve them. I expect that, by digging in this information, I can also contribute to society identifying, for example, inequities and lack of opportunities for minorities</i>"
        },
        {
            "cell_type": "markdown",
            "metadata": {},
            "source": "### The following code takes two input parameters, named as <i>a</I> and <i>b</I>, and the code calculates <i>a</I> to the power of <i>b</i> (<i>a^b</i>) using a for loop. Then, it is compared with the Python operation a**b"
        },
        {
            "cell_type": "code",
            "execution_count": 2,
            "metadata": {},
            "outputs": [
                {
                    "name": "stdout",
                    "output_type": "stream",
                    "text": "The result using the for loop is 16\nThe result using the python operator is 16\n"
                }
            ],
            "source": "a = 4\nb = 2\nresult = 1\nfor i in range(b):\n    result = result*a\n\nprint(\"The result using the for loop is \" + str(result))\nprint(\"The result using the python operator is \" + str(a**b))"
        },
        {
            "cell_type": "markdown",
            "metadata": {},
            "source": "<hr>\n<a href=\"www.google.com\">Click here to go to Google</a>\n<table>\n    <tr><td><b>Word</B></td><td><b>Number of characters</b></td></tr>\n    <tr><td>Luis</td><td>4</td></tr>\n    <tr><td>Rodriguez</td><td>9</td></tr>\n    <tr><td>Garcia</td><td>6</td></tr>\n</table>"
        }
    ],
    "metadata": {
        "kernelspec": {
            "display_name": "Python 3.9",
            "language": "python",
            "name": "python3"
        },
        "language_info": {
            "codemirror_mode": {
                "name": "ipython",
                "version": 3
            },
            "file_extension": ".py",
            "mimetype": "text/x-python",
            "name": "python",
            "nbconvert_exporter": "python",
            "pygments_lexer": "ipython3",
            "version": "3.9.12"
        }
    },
    "nbformat": 4,
    "nbformat_minor": 1
}